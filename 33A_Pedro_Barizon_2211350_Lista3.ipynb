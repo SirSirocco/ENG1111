{
  "nbformat": 4,
  "nbformat_minor": 0,
  "metadata": {
    "colab": {
      "provenance": [],
      "collapsed_sections": []
    },
    "kernelspec": {
      "name": "python3",
      "display_name": "Python 3"
    },
    "language_info": {
      "name": "python"
    }
  },
  "cells": [
    {
      "cell_type": "code",
      "execution_count": null,
      "metadata": {
        "id": "KBYOWYHn-f18"
      },
      "outputs": [],
      "source": [
        "# Passo 1\n",
        "\n",
        "from google.colab import drive\n",
        "import pandas as pd\n",
        "\n",
        "drive.mount(\"/content/gdrive\")\n",
        "\n",
        "df = pd.read_csv(\"/content/gdrive/MyDrive/titanic/class_titanic.csv\")"
      ]
    },
    {
      "cell_type": "code",
      "source": [
        "# Passo 2\n",
        "\n",
        "df.info() # O comando df.dtypes também funcionaria, mas achei a outra forma mais adequada."
      ],
      "metadata": {
        "id": "ndldNcmFT27J"
      },
      "execution_count": null,
      "outputs": []
    },
    {
      "cell_type": "code",
      "source": [
        "# Passo 3\n",
        "\n",
        "# Escolhendo a coluna \"Age\":\n",
        "\n",
        "print(\"# Antes das deleções:\\n\")\n",
        "\n",
        "display(df[\"Age\"])\n",
        "\n",
        "df.dropna(subset = [\"Age\"], inplace = True)\n",
        "\n",
        "print(\"\\n%s\\n\" % (40 * \"=\"))\n",
        "\n",
        "print(\"# Depois das deleções:\\n\")\n",
        "\n",
        "display(df[\"Age\"])"
      ],
      "metadata": {
        "id": "hW61lmR7Eae4"
      },
      "execution_count": null,
      "outputs": []
    },
    {
      "cell_type": "code",
      "source": [
        "# Passo 4\n",
        "\n",
        "# Cálculo da média da coluna \"Age\" já com os valores nulos removidos:\n",
        "\n",
        "media = df[\"Age\"].mean()\n",
        "\n",
        "print(\"-> Média das idades: %g\" % media)"
      ],
      "metadata": {
        "id": "ocd7GQVKIrnJ"
      },
      "execution_count": null,
      "outputs": []
    },
    {
      "cell_type": "code",
      "source": [
        "# Passo 5\n",
        "\n",
        "# Removamos as linhas cujos valores de idade excedam a média em 40 ou mais unidades, criando, assim, um novo DataFrame:\n",
        "\n",
        "new_df = df[df[\"Age\"] < media + 40]\n",
        "\n",
        "df.info()\n",
        "\n",
        "print(\"\\n%s\\n\" % (40 * \"=\"))\n",
        "\n",
        "new_df.info()"
      ],
      "metadata": {
        "id": "j5okx0fVKieo"
      },
      "execution_count": null,
      "outputs": []
    },
    {
      "cell_type": "code",
      "source": [
        "# Passo 6\n",
        "\n",
        "neodf = new_df[[\"PassengerId\", \"Pclass\", \"Name\", \"Sex\", \"Age\"]].copy()\n",
        "\n",
        "# Cria mais um novo DataFrame com base nas cinco primeiras colunas do anterior.\n",
        "\n",
        "display(neodf)"
      ],
      "metadata": {
        "id": "77Y-U6mbQdvY"
      },
      "execution_count": null,
      "outputs": []
    },
    {
      "cell_type": "code",
      "source": [
        "# Passo 7\n",
        "\n",
        "from random import uniform\n",
        "\n",
        "neodf[\"Neocolumn\"] = neodf.apply(lambda row: (row.Age - row.Pclass) * uniform(0, 1), axis = 1)\n",
        "\n",
        "# Adiciona uma nova coluna com base no critério estipulado.\n",
        "\n",
        "display(neodf)"
      ],
      "metadata": {
        "id": "M_9X62ezMXlg"
      },
      "execution_count": null,
      "outputs": []
    },
    {
      "cell_type": "code",
      "source": [
        "# Passo 8\n",
        "\n",
        "neodf = neodf.sample(frac = 1) # Randomiza a posição das linhas — inclusive a dos índices.\n",
        "\n",
        "display(neodf)"
      ],
      "metadata": {
        "id": "EdFWlUTuUJsw"
      },
      "execution_count": null,
      "outputs": []
    },
    {
      "cell_type": "code",
      "source": [
        "# Passo 9\n",
        "\n",
        "# Organizemos o DataFrame com base na ordem alfabética da coluna \"Name\":\n",
        "\n",
        "neodf = neodf.sort_values(\"Name\")\n",
        "\n",
        "display(neodf)\n",
        "\n",
        "# Dessa forma, além de facilitarmos a busca por algum nome em específico, \n",
        "# será possível observarmos mais claramente prováveis relações de parentesco \n",
        "# entre os tripulantes do Titanic."
      ],
      "metadata": {
        "id": "Ejxk636ZaewE"
      },
      "execution_count": null,
      "outputs": []
    },
    {
      "cell_type": "code",
      "source": [
        "# Passo 10\n",
        "\n",
        "neodf.groupby(\"Pclass\")[\"Name\"].count() # Indica o número de passageiros por classe."
      ],
      "metadata": {
        "id": "fgafIKdtfTOz"
      },
      "execution_count": null,
      "outputs": []
    },
    {
      "cell_type": "code",
      "source": [
        "# Passo 11\n",
        "\n",
        "neodf[\"Neocolumn\"] = neodf[\"Neocolumn\"].map(lambda x: x ** 2)\n",
        "\n",
        "# Ao substituirmos os valores da \"Neocolumn\", indiretamente atualizamos o DataFrame.\n",
        "\n",
        "display(neodf)"
      ],
      "metadata": {
        "id": "ruEK4VU7f4v1"
      },
      "execution_count": null,
      "outputs": []
    },
    {
      "cell_type": "code",
      "source": [
        "# Passo 12\n",
        "\n",
        "with open(\"/content/gdrive/MyDrive/arq_csv_titanic.csv\", \"w\") as f:\n",
        "  neodf.to_csv(f)"
      ],
      "metadata": {
        "id": "vvZx1RTxrLGE"
      },
      "execution_count": 16,
      "outputs": []
    },
    {
      "cell_type": "code",
      "source": [
        "# Passo 13\n",
        "\n",
        "with open(\"/content/gdrive/MyDrive/arq_json_titanic.json\", \"w\") as f:\n",
        "  neodf.to_json(f)"
      ],
      "metadata": {
        "id": "tlwx4t3CxqjX"
      },
      "execution_count": 17,
      "outputs": []
    },
    {
      "cell_type": "code",
      "source": [
        "# Passo 14\n",
        "\n",
        "# Vá até o GitHub e verá."
      ],
      "metadata": {
        "id": "vLHPsEHizljo"
      },
      "execution_count": 18,
      "outputs": []
    }
  ]
}